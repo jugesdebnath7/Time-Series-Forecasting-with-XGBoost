{
 "cells": [
  {
   "cell_type": "code",
   "execution_count": 1,
   "id": "1c61906e",
   "metadata": {},
   "outputs": [],
   "source": [
    "import os\n",
    "import sys\n",
    "from pathlib import Path\n",
    "\n"
   ]
  },
  {
   "cell_type": "code",
   "execution_count": 2,
   "id": "1b210482",
   "metadata": {},
   "outputs": [
    {
     "data": {
      "text/plain": [
       "'d:\\\\Time Series Forecasting\\\\Time-Series-Forecasting-with-XGBoost\\\\notebooks'"
      ]
     },
     "execution_count": 2,
     "metadata": {},
     "output_type": "execute_result"
    }
   ],
   "source": [
    "%pwd"
   ]
  },
  {
   "cell_type": "code",
   "execution_count": 3,
   "id": "b28f86fe",
   "metadata": {},
   "outputs": [],
   "source": [
    "# Set up project paths\n",
    "PROJECT_ROOT = Path.cwd().parents[0]\n",
    "data_path = PROJECT_ROOT / 'data' / 'raw'"
   ]
  },
  {
   "cell_type": "code",
   "execution_count": null,
   "id": "542e786c",
   "metadata": {},
   "outputs": [],
   "source": [
    "# Data validation \n",
    "\n"
   ]
  },
  {
   "cell_type": "code",
   "execution_count": null,
   "id": "4ba7720b",
   "metadata": {},
   "outputs": [],
   "source": []
  },
  {
   "cell_type": "code",
   "execution_count": null,
   "id": "00b68942",
   "metadata": {},
   "outputs": [],
   "source": []
  }
 ],
 "metadata": {
  "kernelspec": {
   "display_name": "myvenv",
   "language": "python",
   "name": "python3"
  },
  "language_info": {
   "codemirror_mode": {
    "name": "ipython",
    "version": 3
   },
   "file_extension": ".py",
   "mimetype": "text/x-python",
   "name": "python",
   "nbconvert_exporter": "python",
   "pygments_lexer": "ipython3",
   "version": "3.9.21"
  }
 },
 "nbformat": 4,
 "nbformat_minor": 5
}
